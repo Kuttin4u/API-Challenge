{
 "cells": [
  {
   "cell_type": "code",
   "execution_count": 17,
   "metadata": {},
   "outputs": [],
   "source": [
    "# Dependencies and Setup\n",
    "import matplotlib.pyplot as plt\n",
    "import pandas as pd\n",
    "import numpy as np\n",
    "import requests\n",
    "import time\n",
    "import json\n",
    "\n",
    "# Import API key\n",
    "from api_keys import api_key\n",
    "\n",
    "# Incorporated citipy to determine city based on latitude and longitude\n",
    "from citipy import citipy\n",
    "\n",
    "# Output File (CSV)\n",
    "output_data_file = \"output_data/cities.csv\"\n",
    "\n",
    "# Range of latitudes and longitudes\n",
    "lat_range = (-90, 90)\n",
    "lng_range = (-180, 180)"
   ]
  },
  {
   "cell_type": "markdown",
   "metadata": {},
   "source": [
    "#Generate Cities List"
   ]
  },
  {
   "cell_type": "code",
   "execution_count": 25,
   "metadata": {},
   "outputs": [
    {
     "data": {
      "text/plain": [
       "617"
      ]
     },
     "execution_count": 25,
     "metadata": {},
     "output_type": "execute_result"
    }
   ],
   "source": [
    "# List for holding lat_lngs and cities\n",
    "lat_lngs = []\n",
    "cities = []\n",
    "\n",
    "# Create a set of random lat and lng combinations\n",
    "lats = np.random.uniform(low=-90.000, high=90.000, size=1500)\n",
    "lngs = np.random.uniform(low=-180.000, high=180.000, size=1500)\n",
    "lat_lngs = zip(lats, lngs)\n",
    "\n",
    "# Identify nearest city for each lat, lng combination\n",
    "for lat_lng in lat_lngs:\n",
    "    city = citipy.nearest_city(lat_lng[0], lat_lng[1]).city_name\n",
    "    \n",
    "    # If the city is unique, then add it to a our cities list\n",
    "    if city not in cities:\n",
    "        cities.append(city)\n",
    "\n",
    "# Print the city count to confirm sufficient count\n",
    "len(cities)"
   ]
  },
  {
   "cell_type": "markdown",
   "metadata": {},
   "source": [
    "Perform API Calls\n",
    "Perform a weather check on each city using a series of successive API calls.\n",
    "Include a print log of each city as it'sbeing processed (with the city number and city name)."
   ]
  },
  {
   "cell_type": "code",
   "execution_count": 43,
   "metadata": {},
   "outputs": [
    {
     "ename": "InvalidSchema",
     "evalue": "No connection adapters were found for '['https://openweathermap.org/api', ['safwah', 'kroonstad', 'faya', 'hermanus', 'pangody', 'ribeira grande', 'rikitea', 'mys shmidta', 'xuddur', 'masvingo', 'albany', 'kavieng', 'hobart', 'cabo san lucas', 'ponta do sol', 'khatanga', 'tuktoyaktuk', 'busselton', 'deputatskiy', 'ushuaia', 'atuona', 'clyde river', 'san vicente', 'port alfred', 'adrar', 'moindou', 'jamestown', 'puerto ayora', 'vanavara', 'warqla', 'bredasdorp', 'rosdorf', 'brigantine', 'sobolevo', 'sinnamary', 'bambous virieux', 'castro', 'palencia', 'ancud', 'bilma', 'beloha', 'ananas', 'saskylakh', 'mataura', 'half moon bay', 'mahebourg', 'kaeo', 'saint george', 'bethel', 'iquitos', 'prince george', 'deloraine', 'bandarbeyla', 'bubaque', 'ixtapa', 'batagay', 'severo-kurilsk', 'tezu', 'soyo', 'zhanaozen', 'acapulco', 'port hardy', 'cape town', 'klaksvik', 'bud', 'georgetown', 'hithadhoo', 'jalu', 'yellowknife', 'dikson', 'coquimbo', 'dalinghe', 'vaini', 'naftah', 'saint-philippe', 'vilyuysk', 'butaritari', 'carnarvon', 'saleaula', 'vaitupu', 'pampas', 'punta arenas', 'sorland', 'awbari', 'tommot', 'turukhansk', 'seguela', 'dawson creek', 'bengkulu', 'salinas', 'nizhneyansk', 'saint-pierre', 'staryy nadym', 'okhotsk', 'kutum', 'taolanaro', 'sao felix do xingu', 'waddan', 'katsuura', 'longyearbyen', 'tupik', 'kapaa', 'karonga', 'kruisfontein', 'provideniya', 'bathsheba', 'mar del plata', 'souillac', 'coos bay', 'avarua', 'lagos', 'sao joao da barra', 'namibe', 'dingle', 'san gabriel', 'cabinda', 'marystown', 'hokitika', 'nouakchott', 'zirandaro', 'lodwar', 'hay river', 'podor', 'padang', 'mukhen', 'kodiak', 'touros', 'barreirinha', 'poum', 'upernavik', 'thompson', 'kismayo', 'fort nelson', 'ambodifototra', 'los arabos', 'nome', 'grootfontein', 'urumqi', 'seoul', 'blagoyevo', 'ondorhaan', 'ahipara', 'nikolskoye', 'barentsburg', 'asau', 'noumea', 'aswan', 'chokurdakh', 'cumaribo', 'belushya guba', 'anito', 'torbay', 'along', 'saldanha', 'plettenberg bay', 'beaufort', 'vila franca do campo', 'port elizabeth', 'hilo', 'sentyabrskiy', 'sur', 'yarmouth', 'narsaq', 'bonfim', 'ondangwa', 'changde', 'illoqqortoormiut', 'camacha', 'qaanaaq', 'saint anthony', 'kijang', 'arenapolis', 'cherskiy', 'road town', 'lompoc', 'port moresby', 'arroyo', 'parana', 'nahrin', 'russell', 'prince rupert', 'ostrovnoy', 'puerto escondido', 'kampene', 'saint-francois', 'belmonte', 'pau', 'victoria', 'tsihombe', 'hasaki', 'guaruja', 'attawapiskat', 'vizianagaram', 'tasiilaq', 'laukaa', 'chernihiv', 'savannah bight', 'kapit', 'tuatapere', 'lakeside', 'lubao', 'leningradskiy', 'milkovo', 'mahadday weyne', 'luderitz', 'nemuro', 'nezhinka', 'comodoro rivadavia', 'temaraia', 'necochea', 'airai', 'cidreira', 'faanui', 'codrington', 'barrow', 'kaitangata', 'dunedin', 'gat', 'marawi', 'dudinka', 'salinopolis', 'isangel', 'hovd', 'dombarovskiy', 'cabedelo', 'borovskoy', 'lebu', 'whitianga', 'filotion', 'asfi', 'aripuana', 'umm lajj', 'wynyard', 'meulaboh', 'grindavik', 'atambua', 'berlevag', 'nenjiang', 'matara', 'bambanglipuro', 'kahului', 'chuy', 'bandar-e anzali', 'lasa', 'khandbari', 'cayenne', 'puerto madero', 'hervey bay', 'trincomalee', 'richards bay', 'alamogordo', 'east london', 'les escoumins', 'lolua', 'amderma', 'goundam', 'lauingen', 'roma', 'omboue', 'hun', 'naze', 'atbasar', 'liverpool', 'tieling', 'sola', 'vanimo', 'port lincoln', 'kungurtug', 'boa vista', 'lagoa', 'te anau', 'derzhavinsk', 'kyra', 'gunjur', 'new norfolk', 'flinders', 'pangnirtung', 'harper', 'pasighat', 'darhan', 'atasu', 'esperance', 'nguiu', 'lavrentiya', 'kizema', 'bonavista', 'abu kamal', 'cap malheureux', 'makakilo city', 'micheweni', 'hauterive', 'wenatchee', 'yaan', 'saravan', 'qabis', 'samusu', 'ambilobe', 'berdigestyakh', 'zholymbet', 'sitka', 'thinadhoo', 'tariba', 'vestmannaeyjar', 'uriangato', 'ossora', 'somerset', 'san patricio', 'veraval', 'halalo', 'nuristan', 'ilulissat', 'olafsvik', 'vao', 'bluff', 'dharchula', 'norman wells', 'bara', 'san quintin', 'malpe', 'turan', 'rantepao', 'sao filipe', 'segbwema', 'chapais', 'kargil', 'aklavik', 'vestmanna', 'pevek', 'krasnoselkup', 'nago', 'yenangyaung', 'pisco', 'robore', 'alyangula', 'san juan', 'yunjinghong', 'keuruu', 'juneau', 'estelle', 'tarakan', 'manokwari', 'barawe', 'muravlenko', 'zyryanovsk', 'pemberton', 'rungata', 'cerrito', 'nagyrede', 'presidente olegario', 'saint-ambroise', 'vila velha', 'sorong', 'havre-saint-pierre', 'elizabeth city', 'hastings', 'kandiaro', 'oistins', 'nabire', 'mount gambier', 'samalaeulu', 'moree', 'saint-joseph', 'zhuhai', 'avera', 'iqaluit', 'peniche', 'tucuman', 'jacqueville', 'canals', 'rognan', 'arraial do cabo', 'caravelas', 'nokaneng', 'tutoia', 'fortuna', 'garmsar', 'mezen', 'akcaabat', 'praia da vitoria', 'kazalinsk', 'burevestnik', 'birao', 'belaya gora', 'nanortalik', 'dandong', 'pio duran', 'vanino', 'kavaratti', 'peno', 'gao', 'coxim', 'shelburne', 'azul', 'arlit', 'srednekolymsk', 'el faiyum', 'bontang', 'taoudenni', 'howard springs', 'aflu', 'cheuskiny', 'talaya', 'kota bahru', 'panlaitan', 'baiyin', 'walvis bay', 'ahuimanu', 'solnechnyy', 'emba', 'port-cartier', 'vila', 'el limon', 'anadyr', 'margate', 'kanniyakumari', 'damaturu', 'ferrol', 'yar-sale', 'culpeper', 'luena', 'ponta pora', 'basavakalyan', 'brejo da madre de deus', 'menongue', 'jumla', 'karratha', 'gazli', 'chaman', 'oyotun', 'port blair', 'guaraniacu', 'constitucion', 'sibolga', 'la macarena', 'elko', 'siniscola', 'progreso', 'rawson', 'grand river south east', 'abha', 'wilmington', 'tabuk', 'abu dhabi', 'inderborskiy', 'chongqing', 'svetlogorsk', 'paamiut', 'balkanabat', 'kolyvan', 'hofn', 'mahanje', 'duvan', 'kenai', 'iowa city', 'demmin', 'kargasok', 'koumac', 'carbonia', 'inuvik', 'manono', 'altay', 'lubango', 'kirakira', 'axim', 'gualeguay', 'tabarqah', 'olbia', 'may pen', 'torata', 'beniganj', 'charlestown', 'fort-shevchenko', 'salalah', 'mazara del vallo', 'ust-maya', 'punta cardon', 'arman', 'fairbanks', 'coahuayana', 'gimli', 'rosarito', 'panguna', 'dumas', 'biltine', 'petropavlovsk-kamchatskiy', 'hai duong', 'anloga', 'keti bandar', 'byron bay', 'parkersburg', 'tautira', 'marshall', 'mayuge', 'boralday', 'katherine', 'urubicha', 'castlegar', 'the valley', 'tiksi', 'samarai', 'laguna', 'lorengau', 'karamken', 'rehoboth', 'sibu', 'skagastrond', 'talnakh', 'porto walter', 'esna', 'ketchikan', 'moose factory', 'talcahuano', 'pringsewu', 'smolenskaya', 'noshiro', 'le port', 'mahajanga', 'los llanos de aridane', 'mahon', 'belle fourche', 'mhango', 'preobrazheniye', 'pacific grove', 'rio grande', 'yermakovskoye', 'pontiac', 'polyarnyy', 'maragogi', 'bontoc', 'aktash', 'mindelo', 'chastyye', 'alta gracia', 'marcona', 'koulikoro', 'dolbeau', 'curuguaty', 'bon air', 'phan rang', 'kashi', 'sambava', 'palana', 'quatre cocos', 'alofi', 'bocaiuva', 'nizhniy baskunchak', 'moyale', 'mutsamudu', 'beyneu', 'rathenow', 'clocolan', 'mahibadhoo', 'upington', 'geraldton', 'ponta delgada', 'grand gaube', 'rorvik', 'vieux-habitants', 'ghorawal', 'gari', 'sembakung', 'del rio', 'gouyave', 'manado', 'umm kaddadah', 'umzimvubu', 'valparaiso', 'kupang', 'umba', 'san cristobal', 'morro bay', 'artyk', 'batemans bay', 'aureliana', 'pangkalanbuun', 'zhengjiatun', 'djibo', 'san joaquin', 'nuuk', 'mushie', 'tubmanburg', 'jiddah', 'karaul', 'male', 'varhaug', 'fomboni', 'kattivakkam', 'luwuk', 'ijaki', 'lumberton', 'palmer', 'jacareacanga', 'timra', 'santa cruz', 'toro', 'matagami', 'katangli', 'nouadhibou', 'yanan', 'angoche', 'ca mau', 'toftir', 'komsomolskiy', 'carutapera', 'oranjemund', 'sekondi', 'palabuhanratu', 'chakia', 'eskasem', 'inhambane', 'whitehorse', 'waterloo', 'sergeyevka', 'mayor pablo lagerenza', 'itarema', 'yabelo', 'san clemente'], 'YOUR KEY HERE!']'",
     "output_type": "error",
     "traceback": [
      "\u001b[1;31m---------------------------------------------------------------------------\u001b[0m",
      "\u001b[1;31mInvalidSchema\u001b[0m                             Traceback (most recent call last)",
      "\u001b[1;32m<ipython-input-43-9452342ef607>\u001b[0m in \u001b[0;36m<module>\u001b[1;34m\u001b[0m\n\u001b[0;32m      1\u001b[0m \u001b[0mopweather_url\u001b[0m \u001b[1;33m=\u001b[0m \u001b[1;34m\"https://openweathermap.org/api\"\u001b[0m\u001b[1;33m\u001b[0m\u001b[1;33m\u001b[0m\u001b[0m\n\u001b[1;32m----> 2\u001b[1;33m \u001b[0mquery_city\u001b[0m \u001b[1;33m=\u001b[0m \u001b[0mrequests\u001b[0m\u001b[1;33m.\u001b[0m\u001b[0mget\u001b[0m\u001b[1;33m(\u001b[0m\u001b[1;33m[\u001b[0m\u001b[0mopweather_url\u001b[0m\u001b[1;33m]\u001b[0m \u001b[1;33m+\u001b[0m \u001b[1;33m[\u001b[0m\u001b[0mcities\u001b[0m\u001b[1;33m]\u001b[0m \u001b[1;33m+\u001b[0m \u001b[1;33m[\u001b[0m\u001b[0mapi_key\u001b[0m\u001b[1;33m]\u001b[0m\u001b[1;33m)\u001b[0m\u001b[1;33m.\u001b[0m\u001b[0mjson\u001b[0m\u001b[1;33m(\u001b[0m\u001b[1;33m)\u001b[0m\u001b[1;33m\u001b[0m\u001b[1;33m\u001b[0m\u001b[0m\n\u001b[0m\u001b[0;32m      3\u001b[0m \u001b[1;31m#qpull = requests.get(query_city).json()\u001b[0m\u001b[1;33m\u001b[0m\u001b[1;33m\u001b[0m\u001b[1;33m\u001b[0m\u001b[0m\n\u001b[0;32m      4\u001b[0m \u001b[0mprint\u001b[0m\u001b[1;33m(\u001b[0m\u001b[0mjson\u001b[0m\u001b[1;33m.\u001b[0m\u001b[0mdumps\u001b[0m\u001b[1;33m(\u001b[0m\u001b[0mquery_city\u001b[0m\u001b[1;33m,\u001b[0m \u001b[0mindent\u001b[0m\u001b[1;33m=\u001b[0m\u001b[1;36m4\u001b[0m\u001b[1;33m,\u001b[0m \u001b[0msort_keys\u001b[0m\u001b[1;33m=\u001b[0m\u001b[1;32mTrue\u001b[0m\u001b[1;33m)\u001b[0m\u001b[1;33m)\u001b[0m\u001b[1;33m\u001b[0m\u001b[1;33m\u001b[0m\u001b[0m\n\u001b[0;32m      5\u001b[0m \u001b[1;31m#print(query_city.url)\u001b[0m\u001b[1;33m\u001b[0m\u001b[1;33m\u001b[0m\u001b[1;33m\u001b[0m\u001b[0m\n",
      "\u001b[1;32m~\\Anaconda3\\lib\\site-packages\\requests\\api.py\u001b[0m in \u001b[0;36mget\u001b[1;34m(url, params, **kwargs)\u001b[0m\n\u001b[0;32m     73\u001b[0m \u001b[1;33m\u001b[0m\u001b[0m\n\u001b[0;32m     74\u001b[0m     \u001b[0mkwargs\u001b[0m\u001b[1;33m.\u001b[0m\u001b[0msetdefault\u001b[0m\u001b[1;33m(\u001b[0m\u001b[1;34m'allow_redirects'\u001b[0m\u001b[1;33m,\u001b[0m \u001b[1;32mTrue\u001b[0m\u001b[1;33m)\u001b[0m\u001b[1;33m\u001b[0m\u001b[1;33m\u001b[0m\u001b[0m\n\u001b[1;32m---> 75\u001b[1;33m     \u001b[1;32mreturn\u001b[0m \u001b[0mrequest\u001b[0m\u001b[1;33m(\u001b[0m\u001b[1;34m'get'\u001b[0m\u001b[1;33m,\u001b[0m \u001b[0murl\u001b[0m\u001b[1;33m,\u001b[0m \u001b[0mparams\u001b[0m\u001b[1;33m=\u001b[0m\u001b[0mparams\u001b[0m\u001b[1;33m,\u001b[0m \u001b[1;33m**\u001b[0m\u001b[0mkwargs\u001b[0m\u001b[1;33m)\u001b[0m\u001b[1;33m\u001b[0m\u001b[1;33m\u001b[0m\u001b[0m\n\u001b[0m\u001b[0;32m     76\u001b[0m \u001b[1;33m\u001b[0m\u001b[0m\n\u001b[0;32m     77\u001b[0m \u001b[1;33m\u001b[0m\u001b[0m\n",
      "\u001b[1;32m~\\Anaconda3\\lib\\site-packages\\requests\\api.py\u001b[0m in \u001b[0;36mrequest\u001b[1;34m(method, url, **kwargs)\u001b[0m\n\u001b[0;32m     58\u001b[0m     \u001b[1;31m# cases, and look like a memory leak in others.\u001b[0m\u001b[1;33m\u001b[0m\u001b[1;33m\u001b[0m\u001b[1;33m\u001b[0m\u001b[0m\n\u001b[0;32m     59\u001b[0m     \u001b[1;32mwith\u001b[0m \u001b[0msessions\u001b[0m\u001b[1;33m.\u001b[0m\u001b[0mSession\u001b[0m\u001b[1;33m(\u001b[0m\u001b[1;33m)\u001b[0m \u001b[1;32mas\u001b[0m \u001b[0msession\u001b[0m\u001b[1;33m:\u001b[0m\u001b[1;33m\u001b[0m\u001b[1;33m\u001b[0m\u001b[0m\n\u001b[1;32m---> 60\u001b[1;33m         \u001b[1;32mreturn\u001b[0m \u001b[0msession\u001b[0m\u001b[1;33m.\u001b[0m\u001b[0mrequest\u001b[0m\u001b[1;33m(\u001b[0m\u001b[0mmethod\u001b[0m\u001b[1;33m=\u001b[0m\u001b[0mmethod\u001b[0m\u001b[1;33m,\u001b[0m \u001b[0murl\u001b[0m\u001b[1;33m=\u001b[0m\u001b[0murl\u001b[0m\u001b[1;33m,\u001b[0m \u001b[1;33m**\u001b[0m\u001b[0mkwargs\u001b[0m\u001b[1;33m)\u001b[0m\u001b[1;33m\u001b[0m\u001b[1;33m\u001b[0m\u001b[0m\n\u001b[0m\u001b[0;32m     61\u001b[0m \u001b[1;33m\u001b[0m\u001b[0m\n\u001b[0;32m     62\u001b[0m \u001b[1;33m\u001b[0m\u001b[0m\n",
      "\u001b[1;32m~\\Anaconda3\\lib\\site-packages\\requests\\sessions.py\u001b[0m in \u001b[0;36mrequest\u001b[1;34m(self, method, url, params, data, headers, cookies, files, auth, timeout, allow_redirects, proxies, hooks, stream, verify, cert, json)\u001b[0m\n\u001b[0;32m    531\u001b[0m         }\n\u001b[0;32m    532\u001b[0m         \u001b[0msend_kwargs\u001b[0m\u001b[1;33m.\u001b[0m\u001b[0mupdate\u001b[0m\u001b[1;33m(\u001b[0m\u001b[0msettings\u001b[0m\u001b[1;33m)\u001b[0m\u001b[1;33m\u001b[0m\u001b[1;33m\u001b[0m\u001b[0m\n\u001b[1;32m--> 533\u001b[1;33m         \u001b[0mresp\u001b[0m \u001b[1;33m=\u001b[0m \u001b[0mself\u001b[0m\u001b[1;33m.\u001b[0m\u001b[0msend\u001b[0m\u001b[1;33m(\u001b[0m\u001b[0mprep\u001b[0m\u001b[1;33m,\u001b[0m \u001b[1;33m**\u001b[0m\u001b[0msend_kwargs\u001b[0m\u001b[1;33m)\u001b[0m\u001b[1;33m\u001b[0m\u001b[1;33m\u001b[0m\u001b[0m\n\u001b[0m\u001b[0;32m    534\u001b[0m \u001b[1;33m\u001b[0m\u001b[0m\n\u001b[0;32m    535\u001b[0m         \u001b[1;32mreturn\u001b[0m \u001b[0mresp\u001b[0m\u001b[1;33m\u001b[0m\u001b[1;33m\u001b[0m\u001b[0m\n",
      "\u001b[1;32m~\\Anaconda3\\lib\\site-packages\\requests\\sessions.py\u001b[0m in \u001b[0;36msend\u001b[1;34m(self, request, **kwargs)\u001b[0m\n\u001b[0;32m    638\u001b[0m \u001b[1;33m\u001b[0m\u001b[0m\n\u001b[0;32m    639\u001b[0m         \u001b[1;31m# Get the appropriate adapter to use\u001b[0m\u001b[1;33m\u001b[0m\u001b[1;33m\u001b[0m\u001b[1;33m\u001b[0m\u001b[0m\n\u001b[1;32m--> 640\u001b[1;33m         \u001b[0madapter\u001b[0m \u001b[1;33m=\u001b[0m \u001b[0mself\u001b[0m\u001b[1;33m.\u001b[0m\u001b[0mget_adapter\u001b[0m\u001b[1;33m(\u001b[0m\u001b[0murl\u001b[0m\u001b[1;33m=\u001b[0m\u001b[0mrequest\u001b[0m\u001b[1;33m.\u001b[0m\u001b[0murl\u001b[0m\u001b[1;33m)\u001b[0m\u001b[1;33m\u001b[0m\u001b[1;33m\u001b[0m\u001b[0m\n\u001b[0m\u001b[0;32m    641\u001b[0m \u001b[1;33m\u001b[0m\u001b[0m\n\u001b[0;32m    642\u001b[0m         \u001b[1;31m# Start time (approximately) of the request\u001b[0m\u001b[1;33m\u001b[0m\u001b[1;33m\u001b[0m\u001b[1;33m\u001b[0m\u001b[0m\n",
      "\u001b[1;32m~\\Anaconda3\\lib\\site-packages\\requests\\sessions.py\u001b[0m in \u001b[0;36mget_adapter\u001b[1;34m(self, url)\u001b[0m\n\u001b[0;32m    729\u001b[0m \u001b[1;33m\u001b[0m\u001b[0m\n\u001b[0;32m    730\u001b[0m         \u001b[1;31m# Nothing matches :-/\u001b[0m\u001b[1;33m\u001b[0m\u001b[1;33m\u001b[0m\u001b[1;33m\u001b[0m\u001b[0m\n\u001b[1;32m--> 731\u001b[1;33m         \u001b[1;32mraise\u001b[0m \u001b[0mInvalidSchema\u001b[0m\u001b[1;33m(\u001b[0m\u001b[1;34m\"No connection adapters were found for '%s'\"\u001b[0m \u001b[1;33m%\u001b[0m \u001b[0murl\u001b[0m\u001b[1;33m)\u001b[0m\u001b[1;33m\u001b[0m\u001b[1;33m\u001b[0m\u001b[0m\n\u001b[0m\u001b[0;32m    732\u001b[0m \u001b[1;33m\u001b[0m\u001b[0m\n\u001b[0;32m    733\u001b[0m     \u001b[1;32mdef\u001b[0m \u001b[0mclose\u001b[0m\u001b[1;33m(\u001b[0m\u001b[0mself\u001b[0m\u001b[1;33m)\u001b[0m\u001b[1;33m:\u001b[0m\u001b[1;33m\u001b[0m\u001b[1;33m\u001b[0m\u001b[0m\n",
      "\u001b[1;31mInvalidSchema\u001b[0m: No connection adapters were found for '['https://openweathermap.org/api', ['safwah', 'kroonstad', 'faya', 'hermanus', 'pangody', 'ribeira grande', 'rikitea', 'mys shmidta', 'xuddur', 'masvingo', 'albany', 'kavieng', 'hobart', 'cabo san lucas', 'ponta do sol', 'khatanga', 'tuktoyaktuk', 'busselton', 'deputatskiy', 'ushuaia', 'atuona', 'clyde river', 'san vicente', 'port alfred', 'adrar', 'moindou', 'jamestown', 'puerto ayora', 'vanavara', 'warqla', 'bredasdorp', 'rosdorf', 'brigantine', 'sobolevo', 'sinnamary', 'bambous virieux', 'castro', 'palencia', 'ancud', 'bilma', 'beloha', 'ananas', 'saskylakh', 'mataura', 'half moon bay', 'mahebourg', 'kaeo', 'saint george', 'bethel', 'iquitos', 'prince george', 'deloraine', 'bandarbeyla', 'bubaque', 'ixtapa', 'batagay', 'severo-kurilsk', 'tezu', 'soyo', 'zhanaozen', 'acapulco', 'port hardy', 'cape town', 'klaksvik', 'bud', 'georgetown', 'hithadhoo', 'jalu', 'yellowknife', 'dikson', 'coquimbo', 'dalinghe', 'vaini', 'naftah', 'saint-philippe', 'vilyuysk', 'butaritari', 'carnarvon', 'saleaula', 'vaitupu', 'pampas', 'punta arenas', 'sorland', 'awbari', 'tommot', 'turukhansk', 'seguela', 'dawson creek', 'bengkulu', 'salinas', 'nizhneyansk', 'saint-pierre', 'staryy nadym', 'okhotsk', 'kutum', 'taolanaro', 'sao felix do xingu', 'waddan', 'katsuura', 'longyearbyen', 'tupik', 'kapaa', 'karonga', 'kruisfontein', 'provideniya', 'bathsheba', 'mar del plata', 'souillac', 'coos bay', 'avarua', 'lagos', 'sao joao da barra', 'namibe', 'dingle', 'san gabriel', 'cabinda', 'marystown', 'hokitika', 'nouakchott', 'zirandaro', 'lodwar', 'hay river', 'podor', 'padang', 'mukhen', 'kodiak', 'touros', 'barreirinha', 'poum', 'upernavik', 'thompson', 'kismayo', 'fort nelson', 'ambodifototra', 'los arabos', 'nome', 'grootfontein', 'urumqi', 'seoul', 'blagoyevo', 'ondorhaan', 'ahipara', 'nikolskoye', 'barentsburg', 'asau', 'noumea', 'aswan', 'chokurdakh', 'cumaribo', 'belushya guba', 'anito', 'torbay', 'along', 'saldanha', 'plettenberg bay', 'beaufort', 'vila franca do campo', 'port elizabeth', 'hilo', 'sentyabrskiy', 'sur', 'yarmouth', 'narsaq', 'bonfim', 'ondangwa', 'changde', 'illoqqortoormiut', 'camacha', 'qaanaaq', 'saint anthony', 'kijang', 'arenapolis', 'cherskiy', 'road town', 'lompoc', 'port moresby', 'arroyo', 'parana', 'nahrin', 'russell', 'prince rupert', 'ostrovnoy', 'puerto escondido', 'kampene', 'saint-francois', 'belmonte', 'pau', 'victoria', 'tsihombe', 'hasaki', 'guaruja', 'attawapiskat', 'vizianagaram', 'tasiilaq', 'laukaa', 'chernihiv', 'savannah bight', 'kapit', 'tuatapere', 'lakeside', 'lubao', 'leningradskiy', 'milkovo', 'mahadday weyne', 'luderitz', 'nemuro', 'nezhinka', 'comodoro rivadavia', 'temaraia', 'necochea', 'airai', 'cidreira', 'faanui', 'codrington', 'barrow', 'kaitangata', 'dunedin', 'gat', 'marawi', 'dudinka', 'salinopolis', 'isangel', 'hovd', 'dombarovskiy', 'cabedelo', 'borovskoy', 'lebu', 'whitianga', 'filotion', 'asfi', 'aripuana', 'umm lajj', 'wynyard', 'meulaboh', 'grindavik', 'atambua', 'berlevag', 'nenjiang', 'matara', 'bambanglipuro', 'kahului', 'chuy', 'bandar-e anzali', 'lasa', 'khandbari', 'cayenne', 'puerto madero', 'hervey bay', 'trincomalee', 'richards bay', 'alamogordo', 'east london', 'les escoumins', 'lolua', 'amderma', 'goundam', 'lauingen', 'roma', 'omboue', 'hun', 'naze', 'atbasar', 'liverpool', 'tieling', 'sola', 'vanimo', 'port lincoln', 'kungurtug', 'boa vista', 'lagoa', 'te anau', 'derzhavinsk', 'kyra', 'gunjur', 'new norfolk', 'flinders', 'pangnirtung', 'harper', 'pasighat', 'darhan', 'atasu', 'esperance', 'nguiu', 'lavrentiya', 'kizema', 'bonavista', 'abu kamal', 'cap malheureux', 'makakilo city', 'micheweni', 'hauterive', 'wenatchee', 'yaan', 'saravan', 'qabis', 'samusu', 'ambilobe', 'berdigestyakh', 'zholymbet', 'sitka', 'thinadhoo', 'tariba', 'vestmannaeyjar', 'uriangato', 'ossora', 'somerset', 'san patricio', 'veraval', 'halalo', 'nuristan', 'ilulissat', 'olafsvik', 'vao', 'bluff', 'dharchula', 'norman wells', 'bara', 'san quintin', 'malpe', 'turan', 'rantepao', 'sao filipe', 'segbwema', 'chapais', 'kargil', 'aklavik', 'vestmanna', 'pevek', 'krasnoselkup', 'nago', 'yenangyaung', 'pisco', 'robore', 'alyangula', 'san juan', 'yunjinghong', 'keuruu', 'juneau', 'estelle', 'tarakan', 'manokwari', 'barawe', 'muravlenko', 'zyryanovsk', 'pemberton', 'rungata', 'cerrito', 'nagyrede', 'presidente olegario', 'saint-ambroise', 'vila velha', 'sorong', 'havre-saint-pierre', 'elizabeth city', 'hastings', 'kandiaro', 'oistins', 'nabire', 'mount gambier', 'samalaeulu', 'moree', 'saint-joseph', 'zhuhai', 'avera', 'iqaluit', 'peniche', 'tucuman', 'jacqueville', 'canals', 'rognan', 'arraial do cabo', 'caravelas', 'nokaneng', 'tutoia', 'fortuna', 'garmsar', 'mezen', 'akcaabat', 'praia da vitoria', 'kazalinsk', 'burevestnik', 'birao', 'belaya gora', 'nanortalik', 'dandong', 'pio duran', 'vanino', 'kavaratti', 'peno', 'gao', 'coxim', 'shelburne', 'azul', 'arlit', 'srednekolymsk', 'el faiyum', 'bontang', 'taoudenni', 'howard springs', 'aflu', 'cheuskiny', 'talaya', 'kota bahru', 'panlaitan', 'baiyin', 'walvis bay', 'ahuimanu', 'solnechnyy', 'emba', 'port-cartier', 'vila', 'el limon', 'anadyr', 'margate', 'kanniyakumari', 'damaturu', 'ferrol', 'yar-sale', 'culpeper', 'luena', 'ponta pora', 'basavakalyan', 'brejo da madre de deus', 'menongue', 'jumla', 'karratha', 'gazli', 'chaman', 'oyotun', 'port blair', 'guaraniacu', 'constitucion', 'sibolga', 'la macarena', 'elko', 'siniscola', 'progreso', 'rawson', 'grand river south east', 'abha', 'wilmington', 'tabuk', 'abu dhabi', 'inderborskiy', 'chongqing', 'svetlogorsk', 'paamiut', 'balkanabat', 'kolyvan', 'hofn', 'mahanje', 'duvan', 'kenai', 'iowa city', 'demmin', 'kargasok', 'koumac', 'carbonia', 'inuvik', 'manono', 'altay', 'lubango', 'kirakira', 'axim', 'gualeguay', 'tabarqah', 'olbia', 'may pen', 'torata', 'beniganj', 'charlestown', 'fort-shevchenko', 'salalah', 'mazara del vallo', 'ust-maya', 'punta cardon', 'arman', 'fairbanks', 'coahuayana', 'gimli', 'rosarito', 'panguna', 'dumas', 'biltine', 'petropavlovsk-kamchatskiy', 'hai duong', 'anloga', 'keti bandar', 'byron bay', 'parkersburg', 'tautira', 'marshall', 'mayuge', 'boralday', 'katherine', 'urubicha', 'castlegar', 'the valley', 'tiksi', 'samarai', 'laguna', 'lorengau', 'karamken', 'rehoboth', 'sibu', 'skagastrond', 'talnakh', 'porto walter', 'esna', 'ketchikan', 'moose factory', 'talcahuano', 'pringsewu', 'smolenskaya', 'noshiro', 'le port', 'mahajanga', 'los llanos de aridane', 'mahon', 'belle fourche', 'mhango', 'preobrazheniye', 'pacific grove', 'rio grande', 'yermakovskoye', 'pontiac', 'polyarnyy', 'maragogi', 'bontoc', 'aktash', 'mindelo', 'chastyye', 'alta gracia', 'marcona', 'koulikoro', 'dolbeau', 'curuguaty', 'bon air', 'phan rang', 'kashi', 'sambava', 'palana', 'quatre cocos', 'alofi', 'bocaiuva', 'nizhniy baskunchak', 'moyale', 'mutsamudu', 'beyneu', 'rathenow', 'clocolan', 'mahibadhoo', 'upington', 'geraldton', 'ponta delgada', 'grand gaube', 'rorvik', 'vieux-habitants', 'ghorawal', 'gari', 'sembakung', 'del rio', 'gouyave', 'manado', 'umm kaddadah', 'umzimvubu', 'valparaiso', 'kupang', 'umba', 'san cristobal', 'morro bay', 'artyk', 'batemans bay', 'aureliana', 'pangkalanbuun', 'zhengjiatun', 'djibo', 'san joaquin', 'nuuk', 'mushie', 'tubmanburg', 'jiddah', 'karaul', 'male', 'varhaug', 'fomboni', 'kattivakkam', 'luwuk', 'ijaki', 'lumberton', 'palmer', 'jacareacanga', 'timra', 'santa cruz', 'toro', 'matagami', 'katangli', 'nouadhibou', 'yanan', 'angoche', 'ca mau', 'toftir', 'komsomolskiy', 'carutapera', 'oranjemund', 'sekondi', 'palabuhanratu', 'chakia', 'eskasem', 'inhambane', 'whitehorse', 'waterloo', 'sergeyevka', 'mayor pablo lagerenza', 'itarema', 'yabelo', 'san clemente'], 'YOUR KEY HERE!']'"
     ]
    }
   ],
   "source": [
    "opweather_url = \"https://openweathermap.org/api\"\n",
    "query_city = requests.get([opweather_url] + [cities] + [api_key]).json()\n",
    "#qpull = requests.get(query_city).json()\n",
    "print(json.dumps(query_city, indent=4, sort_keys=True))\n",
    "#print(query_city.url)\n",
    "\n"
   ]
  },
  {
   "cell_type": "code",
   "execution_count": 35,
   "metadata": {},
   "outputs": [],
   "source": [
    "# Initialize data frame to store data from API calls\n",
    "    \n",
    "\n",
    "settings = {\"units\": \"imperial\", \"appid\": api_key}\n",
    "\n",
    "\n",
    "weatherpy_df = pd.DataFrame(columns = [\"City\",\"Cloudiness\", \"Country\",\n",
    "                                    \"Max Temp\", \"Wind Speed\", \n",
    "                                    \"Lat\",\"Lng\", \"Humidity\"])\n",
    "    \n",
    "    \n",
    "    \n",
    "    \n",
    "    \n",
    "    \n",
    "    \n",
    "    \n",
    " \n",
    "\n",
    "\n"
   ]
  },
  {
   "cell_type": "code",
   "execution_count": null,
   "metadata": {},
   "outputs": [],
   "source": [
    "# Enter your API key here \n",
    "api_key = \"api_key\"\n",
    "  \n",
    "# base_url variable to store url \n",
    "opweather_url = \"https://openweathermap.org/api\" \n",
    "  \n",
    "# Give city name \n",
    "city_name = input(\"Enter city name : \", cities) \n",
    "  \n",
    "# complete_url variable to store \n",
    "# complete url address \n",
    "pull_city= opweather_url + \"appid=\" + api_key + \"&q=\" + city_name \n",
    "  \n",
    "# get method of requests module \n",
    "# return response object \n",
    "rand_city = requests.get(pull_city) \n",
    "\n",
    "data=rand_city.json()\n",
    "pprint(data)"
   ]
  },
  {
   "cell_type": "code",
   "execution_count": null,
   "metadata": {},
   "outputs": [],
   "source": [
    "# Enter your API key here \n",
    "api_key = \"api_key\"\n",
    "  \n",
    "# base_url variable to store url \n",
    "opweather_url = \"https://openweathermap.org/api\" \n",
    "  \n",
    "# Give city name \n",
    "city_name = input(\"Enter city name : \") \n",
    "  \n",
    "# complete_url variable to store \n",
    "# complete url address \n",
    "pull_city= opweather_url + \"appid=\" + api_key + \"&q=\" + city_name \n",
    "  \n",
    "# get method of requests module \n",
    "# return response object \n",
    "response = requests.get(pull_city) \n",
    "  \n",
    "# json method of response object  \n",
    "# convert json format data into \n",
    "# python format data \n",
    "x = response.json() \n",
    "  \n",
    "# Now x contains list of nested dictionaries \n",
    "# Check the value of \"cod\" key is equal to \n",
    "# \"404\", means city is found otherwise, \n",
    "# city is not found \n",
    "if x[\"cod\"] != \"404\": \n",
    "  \n",
    "    # store the value of \"main\" \n",
    "    # key in variable y \n",
    "    y = x[\"main\"] \n",
    "  \n",
    "    # store the value corresponding \n",
    "    # to the \"temp\" key of y \n",
    "    current_temperature = y[\"temp\"] \n",
    "  \n",
    "    # store the value corresponding \n",
    "    # to the \"pressure\" key of y \n",
    "    current_pressure = y[\"pressure\"] \n",
    "  \n",
    "    # store the value corresponding \n",
    "    # to the \"humidity\" key of y \n",
    "    current_humidiy = y[\"humidity\"] \n",
    "  \n",
    "    # store the value of \"weather\" \n",
    "    # key in variable z \n",
    "    z = x[\"weather\"] \n",
    "  \n",
    "    # store the value corresponding  \n",
    "    # to the \"description\" key at  \n",
    "    # the 0th index of z \n",
    "    weather_description = z[0][\"description\"] \n",
    "  \n",
    "    # print following values \n",
    "    print(\" Temperature (in kelvin unit) = \" +\n",
    "                    str(current_temperature) + \n",
    "          \"\\n atmospheric pressure (in hPa unit) = \" +\n",
    "                    str(current_pressure) +\n",
    "          \"\\n humidity (in percentage) = \" +\n",
    "                    str(current_humidiy) +\n",
    "          \"\\n description = \" +\n",
    "                    str(weather_description)) \n",
    "  \n",
    "else: \n",
    "    print(\" City Not Found \") "
   ]
  },
  {
   "cell_type": "code",
   "execution_count": null,
   "metadata": {},
   "outputs": [],
   "source": []
  },
  {
   "cell_type": "markdown",
   "metadata": {},
   "source": [
    "\n",
    "Convert Raw Data to DataFrame¶\n",
    "Export the city data into a .csv.\n",
    "Display the DataFrame"
   ]
  },
  {
   "cell_type": "code",
   "execution_count": 8,
   "metadata": {},
   "outputs": [
    {
     "ename": "FileNotFoundError",
     "evalue": "[Errno 2] File b'cities' does not exist: b'cities'",
     "output_type": "error",
     "traceback": [
      "\u001b[1;31m---------------------------------------------------------------------------\u001b[0m",
      "\u001b[1;31mFileNotFoundError\u001b[0m                         Traceback (most recent call last)",
      "\u001b[1;32m<ipython-input-8-500cd17b75d8>\u001b[0m in \u001b[0;36m<module>\u001b[1;34m\u001b[0m\n\u001b[1;32m----> 1\u001b[1;33m \u001b[0mcity_data\u001b[0m\u001b[1;33m=\u001b[0m\u001b[0mpd\u001b[0m\u001b[1;33m.\u001b[0m\u001b[0mread_csv\u001b[0m\u001b[1;33m(\u001b[0m\u001b[1;34m'cities'\u001b[0m\u001b[1;33m,\u001b[0m \u001b[0mdelimiter\u001b[0m \u001b[1;33m=\u001b[0m \u001b[1;34m','\u001b[0m\u001b[1;33m)\u001b[0m\u001b[1;33m\u001b[0m\u001b[1;33m\u001b[0m\u001b[0m\n\u001b[0m\u001b[0;32m      2\u001b[0m \u001b[1;33m\u001b[0m\u001b[0m\n\u001b[0;32m      3\u001b[0m \u001b[0mdf\u001b[0m \u001b[1;33m=\u001b[0m \u001b[0mpd\u001b[0m\u001b[1;33m.\u001b[0m\u001b[0mDataFrame\u001b[0m\u001b[1;33m(\u001b[0m\u001b[0mcity_data\u001b[0m\u001b[1;33m)\u001b[0m\u001b[1;33m\u001b[0m\u001b[1;33m\u001b[0m\u001b[0m\n\u001b[0;32m      4\u001b[0m \u001b[0mdf\u001b[0m\u001b[1;33m\u001b[0m\u001b[1;33m\u001b[0m\u001b[0m\n",
      "\u001b[1;32m~\\Anaconda3\\lib\\site-packages\\pandas\\io\\parsers.py\u001b[0m in \u001b[0;36mparser_f\u001b[1;34m(filepath_or_buffer, sep, delimiter, header, names, index_col, usecols, squeeze, prefix, mangle_dupe_cols, dtype, engine, converters, true_values, false_values, skipinitialspace, skiprows, skipfooter, nrows, na_values, keep_default_na, na_filter, verbose, skip_blank_lines, parse_dates, infer_datetime_format, keep_date_col, date_parser, dayfirst, iterator, chunksize, compression, thousands, decimal, lineterminator, quotechar, quoting, doublequote, escapechar, comment, encoding, dialect, tupleize_cols, error_bad_lines, warn_bad_lines, delim_whitespace, low_memory, memory_map, float_precision)\u001b[0m\n\u001b[0;32m    700\u001b[0m                     skip_blank_lines=skip_blank_lines)\n\u001b[0;32m    701\u001b[0m \u001b[1;33m\u001b[0m\u001b[0m\n\u001b[1;32m--> 702\u001b[1;33m         \u001b[1;32mreturn\u001b[0m \u001b[0m_read\u001b[0m\u001b[1;33m(\u001b[0m\u001b[0mfilepath_or_buffer\u001b[0m\u001b[1;33m,\u001b[0m \u001b[0mkwds\u001b[0m\u001b[1;33m)\u001b[0m\u001b[1;33m\u001b[0m\u001b[1;33m\u001b[0m\u001b[0m\n\u001b[0m\u001b[0;32m    703\u001b[0m \u001b[1;33m\u001b[0m\u001b[0m\n\u001b[0;32m    704\u001b[0m     \u001b[0mparser_f\u001b[0m\u001b[1;33m.\u001b[0m\u001b[0m__name__\u001b[0m \u001b[1;33m=\u001b[0m \u001b[0mname\u001b[0m\u001b[1;33m\u001b[0m\u001b[1;33m\u001b[0m\u001b[0m\n",
      "\u001b[1;32m~\\Anaconda3\\lib\\site-packages\\pandas\\io\\parsers.py\u001b[0m in \u001b[0;36m_read\u001b[1;34m(filepath_or_buffer, kwds)\u001b[0m\n\u001b[0;32m    427\u001b[0m \u001b[1;33m\u001b[0m\u001b[0m\n\u001b[0;32m    428\u001b[0m     \u001b[1;31m# Create the parser.\u001b[0m\u001b[1;33m\u001b[0m\u001b[1;33m\u001b[0m\u001b[1;33m\u001b[0m\u001b[0m\n\u001b[1;32m--> 429\u001b[1;33m     \u001b[0mparser\u001b[0m \u001b[1;33m=\u001b[0m \u001b[0mTextFileReader\u001b[0m\u001b[1;33m(\u001b[0m\u001b[0mfilepath_or_buffer\u001b[0m\u001b[1;33m,\u001b[0m \u001b[1;33m**\u001b[0m\u001b[0mkwds\u001b[0m\u001b[1;33m)\u001b[0m\u001b[1;33m\u001b[0m\u001b[1;33m\u001b[0m\u001b[0m\n\u001b[0m\u001b[0;32m    430\u001b[0m \u001b[1;33m\u001b[0m\u001b[0m\n\u001b[0;32m    431\u001b[0m     \u001b[1;32mif\u001b[0m \u001b[0mchunksize\u001b[0m \u001b[1;32mor\u001b[0m \u001b[0miterator\u001b[0m\u001b[1;33m:\u001b[0m\u001b[1;33m\u001b[0m\u001b[1;33m\u001b[0m\u001b[0m\n",
      "\u001b[1;32m~\\Anaconda3\\lib\\site-packages\\pandas\\io\\parsers.py\u001b[0m in \u001b[0;36m__init__\u001b[1;34m(self, f, engine, **kwds)\u001b[0m\n\u001b[0;32m    893\u001b[0m             \u001b[0mself\u001b[0m\u001b[1;33m.\u001b[0m\u001b[0moptions\u001b[0m\u001b[1;33m[\u001b[0m\u001b[1;34m'has_index_names'\u001b[0m\u001b[1;33m]\u001b[0m \u001b[1;33m=\u001b[0m \u001b[0mkwds\u001b[0m\u001b[1;33m[\u001b[0m\u001b[1;34m'has_index_names'\u001b[0m\u001b[1;33m]\u001b[0m\u001b[1;33m\u001b[0m\u001b[1;33m\u001b[0m\u001b[0m\n\u001b[0;32m    894\u001b[0m \u001b[1;33m\u001b[0m\u001b[0m\n\u001b[1;32m--> 895\u001b[1;33m         \u001b[0mself\u001b[0m\u001b[1;33m.\u001b[0m\u001b[0m_make_engine\u001b[0m\u001b[1;33m(\u001b[0m\u001b[0mself\u001b[0m\u001b[1;33m.\u001b[0m\u001b[0mengine\u001b[0m\u001b[1;33m)\u001b[0m\u001b[1;33m\u001b[0m\u001b[1;33m\u001b[0m\u001b[0m\n\u001b[0m\u001b[0;32m    896\u001b[0m \u001b[1;33m\u001b[0m\u001b[0m\n\u001b[0;32m    897\u001b[0m     \u001b[1;32mdef\u001b[0m \u001b[0mclose\u001b[0m\u001b[1;33m(\u001b[0m\u001b[0mself\u001b[0m\u001b[1;33m)\u001b[0m\u001b[1;33m:\u001b[0m\u001b[1;33m\u001b[0m\u001b[1;33m\u001b[0m\u001b[0m\n",
      "\u001b[1;32m~\\Anaconda3\\lib\\site-packages\\pandas\\io\\parsers.py\u001b[0m in \u001b[0;36m_make_engine\u001b[1;34m(self, engine)\u001b[0m\n\u001b[0;32m   1120\u001b[0m     \u001b[1;32mdef\u001b[0m \u001b[0m_make_engine\u001b[0m\u001b[1;33m(\u001b[0m\u001b[0mself\u001b[0m\u001b[1;33m,\u001b[0m \u001b[0mengine\u001b[0m\u001b[1;33m=\u001b[0m\u001b[1;34m'c'\u001b[0m\u001b[1;33m)\u001b[0m\u001b[1;33m:\u001b[0m\u001b[1;33m\u001b[0m\u001b[1;33m\u001b[0m\u001b[0m\n\u001b[0;32m   1121\u001b[0m         \u001b[1;32mif\u001b[0m \u001b[0mengine\u001b[0m \u001b[1;33m==\u001b[0m \u001b[1;34m'c'\u001b[0m\u001b[1;33m:\u001b[0m\u001b[1;33m\u001b[0m\u001b[1;33m\u001b[0m\u001b[0m\n\u001b[1;32m-> 1122\u001b[1;33m             \u001b[0mself\u001b[0m\u001b[1;33m.\u001b[0m\u001b[0m_engine\u001b[0m \u001b[1;33m=\u001b[0m \u001b[0mCParserWrapper\u001b[0m\u001b[1;33m(\u001b[0m\u001b[0mself\u001b[0m\u001b[1;33m.\u001b[0m\u001b[0mf\u001b[0m\u001b[1;33m,\u001b[0m \u001b[1;33m**\u001b[0m\u001b[0mself\u001b[0m\u001b[1;33m.\u001b[0m\u001b[0moptions\u001b[0m\u001b[1;33m)\u001b[0m\u001b[1;33m\u001b[0m\u001b[1;33m\u001b[0m\u001b[0m\n\u001b[0m\u001b[0;32m   1123\u001b[0m         \u001b[1;32melse\u001b[0m\u001b[1;33m:\u001b[0m\u001b[1;33m\u001b[0m\u001b[1;33m\u001b[0m\u001b[0m\n\u001b[0;32m   1124\u001b[0m             \u001b[1;32mif\u001b[0m \u001b[0mengine\u001b[0m \u001b[1;33m==\u001b[0m \u001b[1;34m'python'\u001b[0m\u001b[1;33m:\u001b[0m\u001b[1;33m\u001b[0m\u001b[1;33m\u001b[0m\u001b[0m\n",
      "\u001b[1;32m~\\Anaconda3\\lib\\site-packages\\pandas\\io\\parsers.py\u001b[0m in \u001b[0;36m__init__\u001b[1;34m(self, src, **kwds)\u001b[0m\n\u001b[0;32m   1851\u001b[0m         \u001b[0mkwds\u001b[0m\u001b[1;33m[\u001b[0m\u001b[1;34m'usecols'\u001b[0m\u001b[1;33m]\u001b[0m \u001b[1;33m=\u001b[0m \u001b[0mself\u001b[0m\u001b[1;33m.\u001b[0m\u001b[0musecols\u001b[0m\u001b[1;33m\u001b[0m\u001b[1;33m\u001b[0m\u001b[0m\n\u001b[0;32m   1852\u001b[0m \u001b[1;33m\u001b[0m\u001b[0m\n\u001b[1;32m-> 1853\u001b[1;33m         \u001b[0mself\u001b[0m\u001b[1;33m.\u001b[0m\u001b[0m_reader\u001b[0m \u001b[1;33m=\u001b[0m \u001b[0mparsers\u001b[0m\u001b[1;33m.\u001b[0m\u001b[0mTextReader\u001b[0m\u001b[1;33m(\u001b[0m\u001b[0msrc\u001b[0m\u001b[1;33m,\u001b[0m \u001b[1;33m**\u001b[0m\u001b[0mkwds\u001b[0m\u001b[1;33m)\u001b[0m\u001b[1;33m\u001b[0m\u001b[1;33m\u001b[0m\u001b[0m\n\u001b[0m\u001b[0;32m   1854\u001b[0m         \u001b[0mself\u001b[0m\u001b[1;33m.\u001b[0m\u001b[0munnamed_cols\u001b[0m \u001b[1;33m=\u001b[0m \u001b[0mself\u001b[0m\u001b[1;33m.\u001b[0m\u001b[0m_reader\u001b[0m\u001b[1;33m.\u001b[0m\u001b[0munnamed_cols\u001b[0m\u001b[1;33m\u001b[0m\u001b[1;33m\u001b[0m\u001b[0m\n\u001b[0;32m   1855\u001b[0m \u001b[1;33m\u001b[0m\u001b[0m\n",
      "\u001b[1;32mpandas/_libs/parsers.pyx\u001b[0m in \u001b[0;36mpandas._libs.parsers.TextReader.__cinit__\u001b[1;34m()\u001b[0m\n",
      "\u001b[1;32mpandas/_libs/parsers.pyx\u001b[0m in \u001b[0;36mpandas._libs.parsers.TextReader._setup_parser_source\u001b[1;34m()\u001b[0m\n",
      "\u001b[1;31mFileNotFoundError\u001b[0m: [Errno 2] File b'cities' does not exist: b'cities'"
     ]
    }
   ],
   "source": [
    "\n",
    "city_data=pd.read_csv('cities', delimiter = ',')\n",
    "\n",
    "df = pd.DataFrame(city_data) \n",
    "df"
   ]
  },
  {
   "cell_type": "code",
   "execution_count": null,
   "metadata": {},
   "outputs": [],
   "source": []
  }
 ],
 "metadata": {
  "kernelspec": {
   "display_name": "Python 3",
   "language": "python",
   "name": "python3"
  },
  "language_info": {
   "codemirror_mode": {
    "name": "ipython",
    "version": 3
   },
   "file_extension": ".py",
   "mimetype": "text/x-python",
   "name": "python",
   "nbconvert_exporter": "python",
   "pygments_lexer": "ipython3",
   "version": "3.7.3"
  }
 },
 "nbformat": 4,
 "nbformat_minor": 2
}
